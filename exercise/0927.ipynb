{
 "cells": [
  {
   "cell_type": "code",
   "execution_count": 4,
   "metadata": {},
   "outputs": [],
   "source": [
    "# Class\n",
    "\n",
    "class MyStack:\n",
    "    def __init__(self):\n",
    "        self.top = []\n",
    "    \n",
    "    def is_empty(self): return len(self.top) == 0\n",
    "    def size(self): return len(self.top)\n",
    "    def clear(self): self.top = []\n",
    "\n",
    "    def push(self, item):\n",
    "        self.top.append(item)\n",
    "\n",
    "    def pop(self):\n",
    "        if not self.is_empty():\n",
    "            return self.top.pop(-1)\n",
    "\n",
    "    def peek(self):\n",
    "        if not self.is_empty():\n",
    "            return self.top[-1]"
   ]
  },
  {
   "cell_type": "code",
   "execution_count": 5,
   "metadata": {},
   "outputs": [],
   "source": [
    "class MazeSolver:\n",
    "\n",
    "    def __init__(self, maze):\n",
    "        self.maze = maze\n",
    "        self.rows = len(maze)\n",
    "        self.cols = len(maze[0])\n",
    "        self.stack = MyStack()\n",
    "        self.visited = [[False for _ in range(self.cols)] for _ in range(self.rows)]\n",
    "\n",
    "    def find_start(self):\n",
    "        for i in range(self.rows):\n",
    "            for j in range(self.cols):\n",
    "                if self.maze[i][j] == 'e':\n",
    "                    return (i, j)\n",
    "        return None\n",
    "\n",
    "    def is_valid_move(self, x, y):\n",
    "        if 0 <= x < self.rows and 0 <= y < self.cols and not self.visited[x][y]:\n",
    "            if self.maze[x][y] == 0 or self.maze[x][y] == 'x':  # 빈 공간 또는 출구로 이동 가능\n",
    "                return True\n",
    "        return False\n",
    "\n",
    "    def dfs(self):\n",
    "        start = self.find_start()\n",
    "        if start is None:\n",
    "            return False  # 입구가 없음\n",
    "        \n",
    "        self.stack.push(start)\n",
    "        self.visited[start[0]][start[1]] = True\n",
    "        \n",
    "        while not self.stack.is_empty():\n",
    "            current = self.stack.pop()\n",
    "            x, y = current\n",
    "            \n",
    "            if self.maze[x][y] == 'x':  # 출구에 도착한 경우\n",
    "                print(\"출구를 찾았습니다!\")\n",
    "                return True\n",
    "            \n",
    "            # 이동 가능한 네 방향 (상, 하, 좌, 우)\n",
    "            for dx, dy in [(-1, 0), (1, 0), (0, -1), (0, 1)]:\n",
    "                new_x, new_y = x + dx, y + dy\n",
    "                if self.is_valid_move(new_x, new_y):\n",
    "                    self.stack.push((new_x, new_y))\n",
    "                    self.visited[new_x][new_y] = True\n",
    "        \n",
    "        print(\"출구를 찾을 수 없습니다.\")\n",
    "        return False"
   ]
  },
  {
   "cell_type": "code",
   "execution_count": 6,
   "metadata": {},
   "outputs": [
    {
     "ename": "AttributeError",
     "evalue": "'MazeSolver' object has no attribute 'visited'",
     "output_type": "error",
     "traceback": [
      "\u001b[0;31m---------------------------------------------------------------------------\u001b[0m",
      "\u001b[0;31mAttributeError\u001b[0m                            Traceback (most recent call last)",
      "Cell \u001b[0;32mIn[6], line 10\u001b[0m\n\u001b[1;32m      1\u001b[0m maze \u001b[38;5;241m=\u001b[39m [\n\u001b[1;32m      2\u001b[0m     [\u001b[38;5;241m1\u001b[39m, \u001b[38;5;241m1\u001b[39m, \u001b[38;5;241m1\u001b[39m, \u001b[38;5;241m1\u001b[39m, \u001b[38;5;241m1\u001b[39m],\n\u001b[1;32m      3\u001b[0m     [\u001b[38;5;241m1\u001b[39m, \u001b[38;5;124m'\u001b[39m\u001b[38;5;124me\u001b[39m\u001b[38;5;124m'\u001b[39m, \u001b[38;5;241m0\u001b[39m, \u001b[38;5;241m0\u001b[39m, \u001b[38;5;241m1\u001b[39m],\n\u001b[0;32m   (...)\u001b[0m\n\u001b[1;32m      6\u001b[0m     [\u001b[38;5;241m1\u001b[39m, \u001b[38;5;241m1\u001b[39m, \u001b[38;5;241m1\u001b[39m, \u001b[38;5;241m1\u001b[39m, \u001b[38;5;241m1\u001b[39m]\n\u001b[1;32m      7\u001b[0m ]\n\u001b[1;32m      9\u001b[0m solver \u001b[38;5;241m=\u001b[39m MazeSolver(maze)\n\u001b[0;32m---> 10\u001b[0m solver\u001b[38;5;241m.\u001b[39mdfs()\n",
      "Cell \u001b[0;32mIn[5], line 28\u001b[0m, in \u001b[0;36mMazeSolver.dfs\u001b[0;34m(self)\u001b[0m\n\u001b[1;32m     25\u001b[0m     \u001b[38;5;28;01mreturn\u001b[39;00m \u001b[38;5;28;01mFalse\u001b[39;00m  \u001b[38;5;66;03m# 입구가 없음\u001b[39;00m\n\u001b[1;32m     27\u001b[0m \u001b[38;5;28mself\u001b[39m\u001b[38;5;241m.\u001b[39mstack\u001b[38;5;241m.\u001b[39mpush(start)\n\u001b[0;32m---> 28\u001b[0m \u001b[38;5;28mself\u001b[39m\u001b[38;5;241m.\u001b[39mvisited[start[\u001b[38;5;241m0\u001b[39m]][start[\u001b[38;5;241m1\u001b[39m]] \u001b[38;5;241m=\u001b[39m \u001b[38;5;28;01mTrue\u001b[39;00m\n\u001b[1;32m     30\u001b[0m \u001b[38;5;28;01mwhile\u001b[39;00m \u001b[38;5;129;01mnot\u001b[39;00m \u001b[38;5;28mself\u001b[39m\u001b[38;5;241m.\u001b[39mstack\u001b[38;5;241m.\u001b[39mis_empty():\n\u001b[1;32m     31\u001b[0m     current \u001b[38;5;241m=\u001b[39m \u001b[38;5;28mself\u001b[39m\u001b[38;5;241m.\u001b[39mstack\u001b[38;5;241m.\u001b[39mpop()\n",
      "\u001b[0;31mAttributeError\u001b[0m: 'MazeSolver' object has no attribute 'visited'"
     ]
    }
   ],
   "source": [
    "maze = [\n",
    "    [1, 1, 1, 1, 1],\n",
    "    [1, 'e', 0, 0, 1],\n",
    "    [1, 1, 0, 1, 1],\n",
    "    [1, 0, 0, 'x', 1],\n",
    "    [1, 1, 1, 1, 1]\n",
    "]\n",
    "\n",
    "solver = MazeSolver(maze)\n",
    "solver.dfs()"
   ]
  },
  {
   "cell_type": "code",
   "execution_count": null,
   "metadata": {},
   "outputs": [],
   "source": [
    "def precedence(operator):\n",
    "    if operator == '*' or operator ==  '/':\n",
    "        return 1\n",
    "    elif operator == '+' or operator == '-':\n",
    "        return 0\n",
    "    \n",
    "\n",
    "\n",
    "\n",
    "# def infix_to_postfix(in_expr):\n",
    "#     operators = MyStack()\n",
    "#     output = []\n",
    "#     for term in in_expr:\n",
    "#         if type(term) == int:\n",
    "#             output.append(term)\n",
    "#             continue\n",
    "#         last_oper = operators.peek()\n",
    "#         if precedence(term) < precedence(last_oper):"
   ]
  },
  {
   "cell_type": "code",
   "execution_count": null,
   "metadata": {},
   "outputs": [],
   "source": []
  }
 ],
 "metadata": {
  "kernelspec": {
   "display_name": "base",
   "language": "python",
   "name": "python3"
  },
  "language_info": {
   "codemirror_mode": {
    "name": "ipython",
    "version": 3
   },
   "file_extension": ".py",
   "mimetype": "text/x-python",
   "name": "python",
   "nbconvert_exporter": "python",
   "pygments_lexer": "ipython3",
   "version": "3.12.2"
  }
 },
 "nbformat": 4,
 "nbformat_minor": 2
}
