{
 "cells": [
  {
   "cell_type": "code",
   "execution_count": null,
   "metadata": {},
   "outputs": [],
   "source": [
    "# Class\n",
    "\n",
    "class MyStack:\n",
    "    def __init__(self):\n",
    "        self._top = []\n",
    "    \n",
    "    def is_empty(self): return len(self._top) == 0\n",
    "    def size(self): return len(self._top)\n",
    "    def clear(self): self._top = []\n",
    "\n",
    "    def push(self, item):\n",
    "        self._top.append(item)\n",
    "\n",
    "    def pop(self):\n",
    "        if not self.is_empty():\n",
    "            return self._top.pop(-1)\n",
    "\n",
    "    def peek(self):\n",
    "        if not self.is_empty():\n",
    "            return self._top[-1]"
   ]
  },
  {
   "cell_type": "code",
   "execution_count": null,
   "metadata": {},
   "outputs": [],
   "source": [
    "# class MazeSolver:\n",
    "\n",
    "#     def __init__(self, maze):\n",
    "#         self._maze = maze\n",
    "#         self._rows = len(maze)\n",
    "#         self._cols = len(maze[0])\n",
    "#         self._stack = MyStack()\n",
    "    \n",
    "#     def find_start(self):\n",
    "        \n",
    "        "
   ]
  },
  {
   "cell_type": "code",
   "execution_count": null,
   "metadata": {},
   "outputs": [],
   "source": [
    "def precedence(operator):\n",
    "    if operator == '*' or operator ==  '/':\n",
    "        return 1\n",
    "    elif operator == '+' or operator == '-':\n",
    "        return 0\n",
    "    \n",
    "\n",
    "\n",
    "\n",
    "# def infix_to_postfix(in_expr):\n",
    "#     operators = MyStack()\n",
    "#     output = []\n",
    "#     for term in in_expr:\n",
    "#         if type(term) == int:\n",
    "#             output.append(term)\n",
    "#             continue\n",
    "#         last_oper = operators.peek()\n",
    "#         if precedence(term) < precedence(last_oper):"
   ]
  },
  {
   "cell_type": "code",
   "execution_count": null,
   "metadata": {},
   "outputs": [],
   "source": []
  }
 ],
 "metadata": {
  "kernelspec": {
   "display_name": "base",
   "language": "python",
   "name": "python3"
  },
  "language_info": {
   "name": "python",
   "version": "3.12.2"
  }
 },
 "nbformat": 4,
 "nbformat_minor": 2
}
