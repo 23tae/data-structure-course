{
 "cells": [
  {
   "cell_type": "code",
   "execution_count": null,
   "metadata": {},
   "outputs": [],
   "source": [
    "class MaxHeap:\n",
    "    def __init__(self):\n",
    "        self.heap = [0]\n",
    "\n",
    "    def size(self): return len(self.heap) - 1\n",
    "    def is_empty(self): return len(self.heap) == 1\n",
    "    def Parent(self, i): return self.heap[i//2]\n",
    "    def Left(self, i): return self.heap[i*2]\n",
    "    def Right(self, i): return self.heap[i*2 + 1]\n",
    "    def display(self, msg=\"힙트리: \"):\n",
    "        print(msg, self.heap[1:])\n",
    "\n",
    "    def insert(self, n):\n",
    "        self.heap.append(n)\n",
    "        i = self.size() # n의 위치\n",
    "        while i != 1 and n > self.Parent(i):\n",
    "            self.heap[i] = self.Parent(i)\n",
    "            i //= 2\n",
    "        self.heap[i] = n\n",
    "\n",
    "    def delete(self):\n",
    "        parent = 1\n",
    "        child = 2\n",
    "        if not self.is_empty():\n",
    "            hroot = self.heap[1]\n",
    "            last = self.heap[self.size()]\n",
    "            while child <= self.size():\n",
    "                if child < self.size() and self.Left(parent) < self.Right(parent):\n",
    "                    child += 1\n",
    "                if last >= self.heap[child]:\n",
    "                    break;\n",
    "                self.heap[parent] = self.heap[child]\n",
    "                parent = child\n",
    "                child *= 2\n",
    "\n",
    "            self.heap[parent] = last\n",
    "            self.heap.pop(-1)\n",
    "            return hroot\n"
   ]
  }
 ],
 "metadata": {
  "kernelspec": {
   "display_name": "base",
   "language": "python",
   "name": "python3"
  },
  "language_info": {
   "name": "python",
   "version": "3.12.2"
  }
 },
 "nbformat": 4,
 "nbformat_minor": 2
}
