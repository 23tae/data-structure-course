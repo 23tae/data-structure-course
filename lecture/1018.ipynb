{
 "cells": [
  {
   "cell_type": "code",
   "execution_count": 1,
   "metadata": {},
   "outputs": [],
   "source": [
    "def asterisk(n):\n",
    "    if n>1:\n",
    "        asterisk(n/2)\n",
    "        asterisk(n/2)\n",
    "    print('*')"
   ]
  },
  {
   "cell_type": "code",
   "execution_count": 2,
   "metadata": {},
   "outputs": [
    {
     "name": "stdout",
     "output_type": "stream",
     "text": [
      "*\n",
      "*\n",
      "*\n",
      "*\n",
      "*\n",
      "*\n",
      "*\n"
     ]
    }
   ],
   "source": [
    "asterisk(3)"
   ]
  },
  {
   "cell_type": "code",
   "execution_count": 22,
   "metadata": {},
   "outputs": [],
   "source": [
    "def pow_loop(x, n):\n",
    "    result = 1\n",
    "    for _ in range(n):\n",
    "        result *= x\n",
    "    return result"
   ]
  },
  {
   "cell_type": "code",
   "execution_count": 23,
   "metadata": {},
   "outputs": [],
   "source": [
    "def pow_recursive(x, n):\n",
    "    if n == 0:\n",
    "        return 1\n",
    "    if n >= 1:\n",
    "        return x * pow_recursive(x, n-1)"
   ]
  },
  {
   "cell_type": "code",
   "execution_count": 24,
   "metadata": {},
   "outputs": [
    {
     "data": {
      "text/plain": [
       "9"
      ]
     },
     "execution_count": 24,
     "metadata": {},
     "output_type": "execute_result"
    }
   ],
   "source": [
    "pow_recursive(3,2)"
   ]
  },
  {
   "cell_type": "code",
   "execution_count": 25,
   "metadata": {},
   "outputs": [
    {
     "data": {
      "text/plain": [
       "81"
      ]
     },
     "execution_count": 25,
     "metadata": {},
     "output_type": "execute_result"
    }
   ],
   "source": [
    "pow_loop(3,4)"
   ]
  },
  {
   "cell_type": "code",
   "execution_count": 28,
   "metadata": {},
   "outputs": [],
   "source": [
    "def pow_recursive_faster_1(x, n):\n",
    "    if n == 0:\n",
    "        return 1\n",
    "    if n % 2 == 0:\n",
    "        return pow_recursive_faster_1(x*x, n/2)\n",
    "    elif n % 2 == 1:\n",
    "        return x * pow_recursive_faster_1(x*x, (n-1)/2)"
   ]
  },
  {
   "cell_type": "code",
   "execution_count": 32,
   "metadata": {},
   "outputs": [
    {
     "data": {
      "text/plain": [
       "64"
      ]
     },
     "execution_count": 32,
     "metadata": {},
     "output_type": "execute_result"
    }
   ],
   "source": [
    "pow_recursive_faster_1(4,3)"
   ]
  },
  {
   "cell_type": "code",
   "execution_count": 34,
   "metadata": {},
   "outputs": [],
   "source": [
    "def pow_recursive_faster_2(x, n):\n",
    "    if n == 0:\n",
    "        return 1\n",
    "    elif n % 2 == 0:\n",
    "        half = pow_recursive_faster_2(x, n // 2)\n",
    "        return half * half\n",
    "    else:\n",
    "        return x * pow_recursive_faster_2(x, n - 1)\n"
   ]
  },
  {
   "cell_type": "code",
   "execution_count": 35,
   "metadata": {},
   "outputs": [
    {
     "data": {
      "text/plain": [
       "64"
      ]
     },
     "execution_count": 35,
     "metadata": {},
     "output_type": "execute_result"
    }
   ],
   "source": [
    "pow_recursive_faster_2(4,3)"
   ]
  },
  {
   "cell_type": "code",
   "execution_count": 41,
   "metadata": {},
   "outputs": [],
   "source": [
    "def fibonacci(n):\n",
    "    if n == 0:\n",
    "        return 0\n",
    "    elif n == 1:\n",
    "        return 1\n",
    "    return fibonacci(n-1) + fibonacci(n-2)"
   ]
  },
  {
   "cell_type": "code",
   "execution_count": 42,
   "metadata": {},
   "outputs": [
    {
     "data": {
      "text/plain": [
       "8"
      ]
     },
     "execution_count": 42,
     "metadata": {},
     "output_type": "execute_result"
    }
   ],
   "source": [
    "fibonacci(6)"
   ]
  },
  {
   "cell_type": "code",
   "execution_count": 55,
   "metadata": {},
   "outputs": [],
   "source": [
    "def is_palindrome(word: str):\n",
    "    # rev_word = ''.join(reversed(word))\n",
    "    # return word == rev_word"
   ]
  },
  {
   "cell_type": "code",
   "execution_count": 61,
   "metadata": {},
   "outputs": [],
   "source": [
    "class TreeNode:\n",
    "    def __init__(self, data: int, left=None, right=None):\n",
    "        self.data = data\n",
    "        self.left = left\n",
    "        self.right = right"
   ]
  },
  {
   "cell_type": "code",
   "execution_count": 62,
   "metadata": {},
   "outputs": [],
   "source": [
    "n3_1 = TreeNode(3)\n",
    "n3_2 = TreeNode(12)\n",
    "n3_3 = TreeNode(22)\n",
    "n3_4 = TreeNode(30)\n",
    "\n",
    "n2_1 = TreeNode(7, n3_1, n3_2)\n",
    "n2_2 = TreeNode(26, n3_3, n3_4)\n",
    "n2_3 = TreeNode(99)\n",
    "\n",
    "n1_1 = TreeNode(18, n2_1, n2_2)\n",
    "n1_2 = TreeNode(68, n2_3)\n",
    "\n",
    "# root node\n",
    "n0 = TreeNode(35, n1_1, n1_2)"
   ]
  },
  {
   "cell_type": "code",
   "execution_count": null,
   "metadata": {},
   "outputs": [],
   "source": [
    "def delete_node(delete_node: TreeNode, parent_node: TreeNode):\n",
    "    # 리프 노드인 경우\n",
    "    if delete_node.left == None and delete_node.right == None:\n",
    "        if parent_node.left == delete_node:\n",
    "            parent_node.left = None\n",
    "        else:\n",
    "            parent_node.right = None\n",
    "        del(delete_node)\n",
    "        return\n",
    "    \n",
    "    # 자식이 하나인 경우\n",
    "    if delete_node.left != None or delete_node.right != None:\n",
    "        if delete_node.left != None:\n",
    "            if parent_node.left == delete_node:\n",
    "                parent_node.left = delete_node.left\n",
    "            else:\n",
    "                parent_node.right = delete_node.left\n",
    "        else:\n",
    "            if parent_node.left == delete_node:\n",
    "                parent_node.left = delete_node.right\n",
    "            else:\n",
    "                parent_node.right = delete_node.right\n",
    "\n",
    "    # 자식이 두개 이상인 경우"
   ]
  },
  {
   "cell_type": "code",
   "execution_count": null,
   "metadata": {},
   "outputs": [],
   "source": [
    "def find_and_delete_node(root: TreeNode, del_data: int):\n",
    "    current_node = root\n",
    "    parent_node = None\n",
    "\n",
    "    while current_node != None:\n",
    "        if current_node.data == del_data:\n",
    "            delete_node(current_node, parent_node)\n",
    "            return True\n",
    "\n",
    "        parent_node = current_node\n",
    "        if current_node.data > del_data:\n",
    "            current_node = current_node.left\n",
    "        else:\n",
    "            current_node = current_node.right\n",
    "\n",
    "    return False"
   ]
  },
  {
   "cell_type": "code",
   "execution_count": null,
   "metadata": {},
   "outputs": [],
   "source": []
  }
 ],
 "metadata": {
  "kernelspec": {
   "display_name": "base",
   "language": "python",
   "name": "python3"
  },
  "language_info": {
   "codemirror_mode": {
    "name": "ipython",
    "version": 3
   },
   "file_extension": ".py",
   "mimetype": "text/x-python",
   "name": "python",
   "nbconvert_exporter": "python",
   "pygments_lexer": "ipython3",
   "version": "3.12.2"
  }
 },
 "nbformat": 4,
 "nbformat_minor": 2
}
