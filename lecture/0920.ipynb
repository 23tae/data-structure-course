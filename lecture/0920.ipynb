{
 "cells": [
  {
   "cell_type": "code",
   "execution_count": 2,
   "metadata": {},
   "outputs": [],
   "source": [
    "px = [7, -4, 0, 5]"
   ]
  },
  {
   "cell_type": "code",
   "execution_count": 3,
   "metadata": {},
   "outputs": [],
   "source": [
    "pxtx = [(300, 7), (20, -4), (0, 5)]"
   ]
  },
  {
   "cell_type": "code",
   "execution_count": 15,
   "metadata": {},
   "outputs": [
    {
     "name": "stdout",
     "output_type": "stream",
     "text": [
      "P(x) = 7x^300 -4x^20 + 5x^0 \n"
     ]
    }
   ],
   "source": [
    "def print_poly(lst):\n",
    "    lst_len = len(lst)\n",
    "    str = \"\"\n",
    "    for i in range(lst_len):\n",
    "        if (i==0):\n",
    "            str += \"P(x) = \"\n",
    "        elif (i != 0 and lst[i][1] > 0):\n",
    "            str += \"+ \"\n",
    "        str += f\"{lst[i][1]}x^{lst[i][0]} \"\n",
    "    print(str)\n",
    "\n",
    "print_poly(pxtx)"
   ]
  },
  {
   "cell_type": "code",
   "execution_count": 65,
   "metadata": {},
   "outputs": [],
   "source": [
    "def is_stack_full():\n",
    "    global size, top\n",
    "\n",
    "    if size > top - 1:\n",
    "        return False\n",
    "    return True\n",
    "\n",
    "def is_valid_range(idx):\n",
    "    if top >= idx and idx >= 0:\n",
    "        return True\n",
    "    return False\n",
    "\n",
    "def push_stack(num):\n",
    "    global stack, size, top\n",
    "\n",
    "    if is_stack_full() == True:\n",
    "        print(\"스택에 공간이 없습니다.\")\n",
    "        return\n",
    "    stack[top + 1] = num\n",
    "    top += 1\n",
    "\n",
    "def pop_stack(index):\n",
    "    global stack, top, SIZE\n",
    "    is_popped = False\n",
    "\n",
    "    if is_valid_range(index) == False:\n",
    "        print(\"index가 잘못 입력됐습니다.\")\n",
    "        return\n",
    "\n",
    "    for i in range(top + 1):\n",
    "        if index != i:\n",
    "            if is_popped == True:\n",
    "                if i < SIZE - 1:\n",
    "                    stack[i] = stack[i+1]\n",
    "            continue\n",
    "        data = stack[i]\n",
    "        if i == SIZE - 1:\n",
    "            stack[i] = None\n",
    "        else:\n",
    "            stack[i] = stack[i+1]\n",
    "        is_popped = True\n",
    "        top -= 1\n",
    "    return data\n",
    "\n",
    "def init_stack(num):\n",
    "    global stack, size, top\n",
    "    size = num\n",
    "    stack = [None] * num\n",
    "    top = -1\n",
    "\n",
    "def print_stack():\n",
    "    print(\"<stack>\\n--------\")\n",
    "    for i in range(top, -1, -1):\n",
    "        print(stack[i])\n",
    "    print(\"--------\\n\")"
   ]
  },
  {
   "cell_type": "code",
   "execution_count": 66,
   "metadata": {},
   "outputs": [
    {
     "name": "stdout",
     "output_type": "stream",
     "text": [
      "<stack>\n",
      "--------\n",
      "52\n",
      "110\n",
      "2\n",
      "--------\n",
      "\n",
      "<stack>\n",
      "--------\n",
      "52\n",
      "2\n",
      "--------\n",
      "\n",
      "[2, 52, None, None, None] 5 1\n"
     ]
    }
   ],
   "source": [
    "stack = []\n",
    "size = 0\n",
    "top = 0\n",
    "init_stack(5)\n",
    "push_stack(2)\n",
    "push_stack(110)\n",
    "push_stack(52)\n",
    "print_stack()\n",
    "pop_stack(1)\n",
    "print_stack()\n",
    "print(stack, size, top)"
   ]
  },
  {
   "cell_type": "code",
   "execution_count": null,
   "metadata": {},
   "outputs": [],
   "source": []
  }
 ],
 "metadata": {
  "kernelspec": {
   "display_name": "base",
   "language": "python",
   "name": "python3"
  },
  "language_info": {
   "codemirror_mode": {
    "name": "ipython",
    "version": 3
   },
   "file_extension": ".py",
   "mimetype": "text/x-python",
   "name": "python",
   "nbconvert_exporter": "python",
   "pygments_lexer": "ipython3",
   "version": "3.12.2"
  }
 },
 "nbformat": 4,
 "nbformat_minor": 2
}
