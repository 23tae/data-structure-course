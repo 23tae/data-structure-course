{
 "cells": [
  {
   "cell_type": "code",
   "execution_count": 1,
   "metadata": {},
   "outputs": [],
   "source": [
    "a = list()\n",
    "a = [1,2,3,4]"
   ]
  },
  {
   "cell_type": "code",
   "execution_count": 12,
   "metadata": {},
   "outputs": [
    {
     "name": "stdout",
     "output_type": "stream",
     "text": [
      "6\n"
     ]
    }
   ],
   "source": [
    "def sum_all(*args):\n",
    "    result = sum(args)\n",
    "    return result\n",
    "\n",
    "b = sum_all(1,2,3)\n",
    "\n",
    "print(b)"
   ]
  },
  {
   "cell_type": "code",
   "execution_count": 19,
   "metadata": {},
   "outputs": [
    {
     "name": "stdout",
     "output_type": "stream",
     "text": [
      "['다현', '정연', '솔라', '쯔위', '사나', '지효']\n"
     ]
    }
   ],
   "source": [
    "katok = [\"다현\", \"정연\", \"쯔위\", \"사나\", \"지효\"]\n",
    "\n",
    "def insert_data(position, friend) :\n",
    "    if position < 0 or position > len(katok) :\n",
    "        print(\"데이터를 삽입할 범위를 벗어났습니다.\")\n",
    "        return\n",
    "    katok.append(None) # 빈칸 추가\n",
    "    kLen = len(katok) # 배열의 현재 크기: 7\n",
    "    for i in range(kLen-1, position, -1) : # 6부터 2까지\n",
    "        katok[i] = katok[i-1]\n",
    "        # katok[i-1] = None # 어차피 덮어씌우기 때문에 불필요함\n",
    "    katok[position] = friend # 지정한 위치에 친구 추가\n",
    "insert_data(2, '솔라')\n",
    "print(katok)"
   ]
  },
  {
   "cell_type": "code",
   "execution_count": 30,
   "metadata": {},
   "outputs": [
    {
     "name": "stdout",
     "output_type": "stream",
     "text": [
      "Before Delete: ['다현', '정연', '쯔위', '사나']\n",
      "After Delete: ['다현', '쯔위', '사나']\n"
     ]
    }
   ],
   "source": [
    "katok = [\"다현\", \"정연\", \"쯔위\", \"사나\"]\n",
    "\n",
    "def delete_data(position):\n",
    "    if position < 0 or position > len(katok) :\n",
    "        print(\"데이터를 삭제할 범위를 벗어났습니다.\")\n",
    "        return\n",
    "    k_len = len(katok) # 3\n",
    "    katok[position] = None # [\"다현\", None, \"쯔위\", \"사나\"]\n",
    "    for i in range(position, k_len - 1): # 1부터 2까지\n",
    "        katok[i] = katok[i+1]\n",
    "    del(katok[k_len - 1])\n",
    "\n",
    "print(f\"Before Delete: {katok}\")\n",
    "delete_data(1)\n",
    "print(f\"After Delete: {katok}\")"
   ]
  },
  {
   "cell_type": "code",
   "execution_count": null,
   "metadata": {},
   "outputs": [],
   "source": []
  }
 ],
 "metadata": {
  "kernelspec": {
   "display_name": "base",
   "language": "python",
   "name": "python3"
  },
  "language_info": {
   "codemirror_mode": {
    "name": "ipython",
    "version": 3
   },
   "file_extension": ".py",
   "mimetype": "text/x-python",
   "name": "python",
   "nbconvert_exporter": "python",
   "pygments_lexer": "ipython3",
   "version": "3.12.2"
  }
 },
 "nbformat": 4,
 "nbformat_minor": 2
}
