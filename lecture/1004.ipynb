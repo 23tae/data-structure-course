{
 "cells": [
  {
   "cell_type": "code",
   "execution_count": 20,
   "metadata": {},
   "outputs": [],
   "source": [
    "class Node:\n",
    "    def __init__(self):\n",
    "        self.data = None\n",
    "        self.link = None\n",
    "\n",
    "    def print_list(self):\n",
    "        node = self\n",
    "        while node:\n",
    "            print(node.data, end=\"\")\n",
    "            node = node.link"
   ]
  },
  {
   "cell_type": "code",
   "execution_count": 21,
   "metadata": {},
   "outputs": [],
   "source": [
    "node_a = Node()\n",
    "node_a.data = \"abc\"\n",
    "head = node_a\n",
    "\n",
    "node_b = Node()\n",
    "node_b.data = \"def\"\n",
    "node_a.link = node_b\n",
    "\n",
    "node_c = Node()\n",
    "node_c.data = \"ghi\"\n",
    "node_b.link = node_c"
   ]
  },
  {
   "cell_type": "code",
   "execution_count": 22,
   "metadata": {},
   "outputs": [
    {
     "name": "stdout",
     "output_type": "stream",
     "text": [
      "abcdefghi"
     ]
    }
   ],
   "source": [
    "node = head\n",
    "while node:\n",
    "    print(node.data, end=\"\")\n",
    "    node = node.link"
   ]
  },
  {
   "cell_type": "code",
   "execution_count": 23,
   "metadata": {},
   "outputs": [],
   "source": [
    "# 맨 앞에 노드 삽입\n",
    "node_d = Node()\n",
    "node_d.data = \"test\"\n",
    "node_d.link = head\n",
    "head = node_d"
   ]
  },
  {
   "cell_type": "code",
   "execution_count": 24,
   "metadata": {},
   "outputs": [
    {
     "name": "stdout",
     "output_type": "stream",
     "text": [
      "testabcdefghi"
     ]
    }
   ],
   "source": [
    "node = head\n",
    "while node:\n",
    "    print(node.data, end=\"\")\n",
    "    node = node.link"
   ]
  },
  {
   "cell_type": "code",
   "execution_count": 25,
   "metadata": {},
   "outputs": [],
   "source": [
    "# 중간에 노드 삽입(b, c 사이에)\n",
    "node_e = Node()\n",
    "node_e.data = \"hello\"\n",
    "node_e.link = node_c\n",
    "node_b.link = node_e"
   ]
  },
  {
   "cell_type": "code",
   "execution_count": 26,
   "metadata": {},
   "outputs": [
    {
     "name": "stdout",
     "output_type": "stream",
     "text": [
      "testabcdefhelloghi"
     ]
    }
   ],
   "source": [
    "head.print_list()"
   ]
  },
  {
   "cell_type": "code",
   "execution_count": null,
   "metadata": {},
   "outputs": [],
   "source": []
  }
 ],
 "metadata": {
  "kernelspec": {
   "display_name": "base",
   "language": "python",
   "name": "python3"
  },
  "language_info": {
   "codemirror_mode": {
    "name": "ipython",
    "version": 3
   },
   "file_extension": ".py",
   "mimetype": "text/x-python",
   "name": "python",
   "nbconvert_exporter": "python",
   "pygments_lexer": "ipython3",
   "version": "3.12.2"
  }
 },
 "nbformat": 4,
 "nbformat_minor": 2
}
