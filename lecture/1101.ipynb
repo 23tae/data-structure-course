{
 "cells": [
  {
   "cell_type": "code",
   "execution_count": null,
   "metadata": {},
   "outputs": [],
   "source": [
    "class Entry:\n",
    "    def __init__(self, key, value):\n",
    "        self.key = key\n",
    "        self.value = value\n",
    "    \n",
    "    def __str__(self):\n",
    "        return str(\"%s:%s\" %(self.key, self.value))"
   ]
  },
  {
   "cell_type": "code",
   "execution_count": null,
   "metadata": {},
   "outputs": [],
   "source": [
    "def sequential_search(table, key, i, n):\n",
    "    pass # 미구현"
   ]
  },
  {
   "cell_type": "code",
   "execution_count": null,
   "metadata": {},
   "outputs": [],
   "source": [
    "class SequentialMap:\n",
    "    def __init__(self):\n",
    "        self.table = []\n",
    "\n",
    "    def size(self):\n",
    "        return len(self.table)\n",
    "\n",
    "    def insert(self, key, value):\n",
    "        self.table.append(Entry(key,value))\n",
    "    \n",
    "    def search(self, key):\n",
    "        pos = sequential_search(self.table, key, 0, self.size() - 1)\n",
    "        if pos is not None: return self.table[pos]\n",
    "        else: return None\n",
    "\n",
    "    def delete(self, key):\n",
    "        for i in range(self.size()):\n",
    "            if self.table[i].key == key:\n",
    "                self.table.pop(i)\n",
    "                return"
   ]
  },
  {
   "cell_type": "code",
   "execution_count": null,
   "metadata": {},
   "outputs": [],
   "source": [
    "class HashChainMap:\n",
    "    def __init__(self, M):\n",
    "        self.table = [None] * M\n",
    "        self.M = M\n",
    "\n",
    "    def insert(self, key, value):\n",
    "        idx = self.hashFn(key)\n",
    "        self.table[idx] = Node(Entry(key, value), self.table[idx])\n",
    "        entry = Entry(key, value)\n",
    "        node = Node(entry)\n",
    "        node.link = self.table[idx]\n",
    "        self.tabel[idx] = node"
   ]
  },
  {
   "cell_type": "code",
   "execution_count": null,
   "metadata": {},
   "outputs": [],
   "source": []
  }
 ],
 "metadata": {
  "kernelspec": {
   "display_name": "base",
   "language": "python",
   "name": "python3"
  },
  "language_info": {
   "codemirror_mode": {
    "name": "ipython",
    "version": 3
   },
   "file_extension": ".py",
   "mimetype": "text/x-python",
   "name": "python",
   "nbconvert_exporter": "python",
   "pygments_lexer": "ipython3",
   "version": "3.12.2"
  }
 },
 "nbformat": 4,
 "nbformat_minor": 2
}
