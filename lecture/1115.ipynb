{
 "cells": [
  {
   "cell_type": "code",
   "execution_count": 1,
   "metadata": {},
   "outputs": [],
   "source": [
    "def merge_sort(data, left, right):\n",
    "    if left < right:\n",
    "        mid = (left + right) // 2\n",
    "        merge_sort(left, 0, mid)\n",
    "        merge_sort(left, mid+1, right)\n",
    "        merge(data, left, mid, right)\n",
    "\n",
    "def merge(data, left, mid, right):\n",
    "    global sorted\n",
    "    k = left\n",
    "    i = left\n",
    "    j = mid + 1\n",
    "    while i <= mid and j <= right:\n",
    "        if data[i] <= data[j]:\n",
    "            sorted[k] = data[i]\n",
    "            i, k = i+1, k+1\n",
    "        else:\n",
    "            sorted[k] = data[j]\n",
    "            j, k = j+1, k+1\n",
    "    if i > mid:\n",
    "        sorted[k:k+right-j+1] = data[j:right+1]\n",
    "    else:\n",
    "        sorted[k:k+mid-i+1] = data[i:mid+1]\n",
    "    data[left:right+1] = sorted[left:right+1]"
   ]
  },
  {
   "cell_type": "code",
   "execution_count": 2,
   "metadata": {},
   "outputs": [
    {
     "ename": "TypeError",
     "evalue": "'int' object is not subscriptable",
     "output_type": "error",
     "traceback": [
      "\u001b[0;31m---------------------------------------------------------------------------\u001b[0m",
      "\u001b[0;31mTypeError\u001b[0m                                 Traceback (most recent call last)",
      "Cell \u001b[0;32mIn[2], line 8\u001b[0m\n\u001b[1;32m      5\u001b[0m data \u001b[38;5;241m=\u001b[39m [\u001b[38;5;241m8\u001b[39m, \u001b[38;5;241m4\u001b[39m, \u001b[38;5;241m6\u001b[39m, \u001b[38;5;241m2\u001b[39m, \u001b[38;5;241m5\u001b[39m, \u001b[38;5;241m1\u001b[39m, \u001b[38;5;241m3\u001b[39m, \u001b[38;5;241m7\u001b[39m]\n\u001b[1;32m      7\u001b[0m \u001b[38;5;66;03m# merge_sort 호출\u001b[39;00m\n\u001b[0;32m----> 8\u001b[0m merge_sort(data, \u001b[38;5;241m0\u001b[39m, \u001b[38;5;28mlen\u001b[39m(data)\u001b[38;5;241m-\u001b[39m\u001b[38;5;241m1\u001b[39m)\n",
      "Cell \u001b[0;32mIn[1], line 4\u001b[0m, in \u001b[0;36mmerge_sort\u001b[0;34m(data, left, right)\u001b[0m\n\u001b[1;32m      2\u001b[0m \u001b[38;5;28;01mif\u001b[39;00m left \u001b[38;5;241m<\u001b[39m right:\n\u001b[1;32m      3\u001b[0m     mid \u001b[38;5;241m=\u001b[39m (left \u001b[38;5;241m+\u001b[39m right) \u001b[38;5;241m/\u001b[39m\u001b[38;5;241m/\u001b[39m \u001b[38;5;241m2\u001b[39m\n\u001b[0;32m----> 4\u001b[0m     merge_sort(left, \u001b[38;5;241m0\u001b[39m, mid)\n\u001b[1;32m      5\u001b[0m     merge_sort(left, mid\u001b[38;5;241m+\u001b[39m\u001b[38;5;241m1\u001b[39m, right)\n\u001b[1;32m      6\u001b[0m     merge(data, left, mid, right)\n",
      "Cell \u001b[0;32mIn[1], line 4\u001b[0m, in \u001b[0;36mmerge_sort\u001b[0;34m(data, left, right)\u001b[0m\n\u001b[1;32m      2\u001b[0m \u001b[38;5;28;01mif\u001b[39;00m left \u001b[38;5;241m<\u001b[39m right:\n\u001b[1;32m      3\u001b[0m     mid \u001b[38;5;241m=\u001b[39m (left \u001b[38;5;241m+\u001b[39m right) \u001b[38;5;241m/\u001b[39m\u001b[38;5;241m/\u001b[39m \u001b[38;5;241m2\u001b[39m\n\u001b[0;32m----> 4\u001b[0m     merge_sort(left, \u001b[38;5;241m0\u001b[39m, mid)\n\u001b[1;32m      5\u001b[0m     merge_sort(left, mid\u001b[38;5;241m+\u001b[39m\u001b[38;5;241m1\u001b[39m, right)\n\u001b[1;32m      6\u001b[0m     merge(data, left, mid, right)\n",
      "Cell \u001b[0;32mIn[1], line 6\u001b[0m, in \u001b[0;36mmerge_sort\u001b[0;34m(data, left, right)\u001b[0m\n\u001b[1;32m      4\u001b[0m merge_sort(left, \u001b[38;5;241m0\u001b[39m, mid)\n\u001b[1;32m      5\u001b[0m merge_sort(left, mid\u001b[38;5;241m+\u001b[39m\u001b[38;5;241m1\u001b[39m, right)\n\u001b[0;32m----> 6\u001b[0m merge(data, left, mid, right)\n",
      "Cell \u001b[0;32mIn[1], line 14\u001b[0m, in \u001b[0;36mmerge\u001b[0;34m(data, left, mid, right)\u001b[0m\n\u001b[1;32m     12\u001b[0m j \u001b[38;5;241m=\u001b[39m mid \u001b[38;5;241m+\u001b[39m \u001b[38;5;241m1\u001b[39m\n\u001b[1;32m     13\u001b[0m \u001b[38;5;28;01mwhile\u001b[39;00m i \u001b[38;5;241m<\u001b[39m\u001b[38;5;241m=\u001b[39m mid \u001b[38;5;129;01mand\u001b[39;00m j \u001b[38;5;241m<\u001b[39m\u001b[38;5;241m=\u001b[39m right:\n\u001b[0;32m---> 14\u001b[0m     \u001b[38;5;28;01mif\u001b[39;00m data[i] \u001b[38;5;241m<\u001b[39m\u001b[38;5;241m=\u001b[39m data[j]:\n\u001b[1;32m     15\u001b[0m         \u001b[38;5;28msorted\u001b[39m[k] \u001b[38;5;241m=\u001b[39m data[i]\n\u001b[1;32m     16\u001b[0m         i, k \u001b[38;5;241m=\u001b[39m i\u001b[38;5;241m+\u001b[39m\u001b[38;5;241m1\u001b[39m, k\u001b[38;5;241m+\u001b[39m\u001b[38;5;241m1\u001b[39m\n",
      "\u001b[0;31mTypeError\u001b[0m: 'int' object is not subscriptable"
     ]
    }
   ],
   "source": [
    "# 전역 변수 선언 필요\n",
    "sorted = [0] * 10  # N은 배열의 크기\n",
    "\n",
    "# 정렬할 데이터 준비\n",
    "data = [8, 4, 6, 2, 5, 1, 3, 7]\n",
    "\n",
    "# merge_sort 호출\n",
    "merge_sort(data, 0, len(data)-1)"
   ]
  },
  {
   "cell_type": "code",
   "execution_count": null,
   "metadata": {},
   "outputs": [],
   "source": [
    "def shell_sort(data):\n",
    "    n = len(data)\n",
    "    gap = n//2\n",
    "    while gap > 0:\n",
    "        if (gap % 2) == 0 : gap += 1\n",
    "        for i in range(gap):\n",
    "            sortGapInsertion(data, i, n-1, gap)\n",
    "        print('Gap=', gap, data)\n",
    "        gap = gap // 2\n",
    "\n",
    "def sortGapInsertion(data, first, last, gap):\n",
    "    for i in range(first+gap, last+1, gap):\n",
    "        key = data[i]\n",
    "        j = i - gap\n",
    "        while j >= first and key < data[j]:\n",
    "            data[j+gap] = data[j]\n",
    "            j = j - gap\n",
    "        data[j+gap] = key"
   ]
  }
 ],
 "metadata": {
  "kernelspec": {
   "display_name": "base",
   "language": "python",
   "name": "python3"
  },
  "language_info": {
   "codemirror_mode": {
    "name": "ipython",
    "version": 3
   },
   "file_extension": ".py",
   "mimetype": "text/x-python",
   "name": "python",
   "nbconvert_exporter": "python",
   "pygments_lexer": "ipython3",
   "version": "3.12.2"
  }
 },
 "nbformat": 4,
 "nbformat_minor": 2
}
