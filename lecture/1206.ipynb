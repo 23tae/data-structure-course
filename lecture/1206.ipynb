{
 "cells": [
  {
   "cell_type": "code",
   "execution_count": 1,
   "metadata": {},
   "outputs": [],
   "source": [
    "def dfs(g, start, size, visited):\n",
    "    if start not in visited:\n",
    "        visited.append(start)\n",
    "        print(start, end=' ')\n",
    "        for v in range(size):\n",
    "            if g[start][v] == 1 and v not in visited:\n",
    "                dfs(g, v, size, visited)"
   ]
  },
  {
   "cell_type": "code",
   "execution_count": 2,
   "metadata": {},
   "outputs": [
    {
     "name": "stdout",
     "output_type": "stream",
     "text": [
      "0 2 1 3 4 "
     ]
    }
   ],
   "source": [
    "SIZE = 5\n",
    "graph = [[0 for _ in range(SIZE)] for _ in range(SIZE)]\n",
    "graph[0][2] = 1; graph[0][3] = 1\n",
    "graph[1][2] = 1\n",
    "graph[2][0] = 1; graph[2][1] = 1; graph[2][3] = 1\n",
    "graph[3][0] = 1; graph[3][2] = 1\n",
    "graph[3][4] = 1; graph[4][3] = 1\n",
    "visited=[]\n",
    "dfs(graph, 0, SIZE, visited)"
   ]
  },
  {
   "cell_type": "code",
   "execution_count": null,
   "metadata": {},
   "outputs": [],
   "source": []
  },
  {
   "cell_type": "markdown",
   "metadata": {},
   "source": []
  }
 ],
 "metadata": {
  "kernelspec": {
   "display_name": "base",
   "language": "python",
   "name": "python3"
  },
  "language_info": {
   "codemirror_mode": {
    "name": "ipython",
    "version": 3
   },
   "file_extension": ".py",
   "mimetype": "text/x-python",
   "name": "python",
   "nbconvert_exporter": "python",
   "pygments_lexer": "ipython3",
   "version": "3.12.2"
  }
 },
 "nbformat": 4,
 "nbformat_minor": 2
}
