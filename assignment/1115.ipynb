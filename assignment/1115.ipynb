{
 "cells": [
  {
   "cell_type": "code",
   "execution_count": 1,
   "metadata": {},
   "outputs": [],
   "source": [
    "from timeit import default_timer as timer\n",
    "from random import sample"
   ]
  },
  {
   "cell_type": "code",
   "execution_count": 2,
   "metadata": {},
   "outputs": [],
   "source": [
    "def generate_numbers(size=10000):\n",
    "    return sample(range(0, size * 3), size)"
   ]
  },
  {
   "cell_type": "code",
   "execution_count": 3,
   "metadata": {},
   "outputs": [],
   "source": [
    "# Quick Sort\n",
    "def quick_sort(data, left=0, right=None):\n",
    "    if right is None:\n",
    "        right = len(data) - 1\n",
    "    if left < right:\n",
    "        q = partition(data, left, right)\n",
    "        quick_sort(data, left, q-1)\n",
    "        quick_sort(data, q+1, right)\n",
    "\n",
    "\n",
    "def partition(data, left, right):\n",
    "    low = left + 1\n",
    "    high = right\n",
    "    pivot = data[left]\n",
    "    while low <= high:\n",
    "        while low <= right and data[low] < pivot:\n",
    "            low += 1\n",
    "        while high >= left and data[high] > pivot:\n",
    "            high -= 1\n",
    "        if low < high:\n",
    "            data[low], data[high] = data[high], data[low]\n",
    "    data[left], data[high] = data[high], data[left]\n",
    "    return high"
   ]
  },
  {
   "cell_type": "code",
   "execution_count": 4,
   "metadata": {},
   "outputs": [],
   "source": [
    "# Merge Sort\n",
    "def merge_sort(data, left=0, right=None):\n",
    "    if right is None:\n",
    "        right = len(data) - 1\n",
    "    if left < right:\n",
    "        mid = (left + right) // 2\n",
    "        merge_sort(data, left, mid)\n",
    "        merge_sort(data, mid + 1, right)\n",
    "        merge(data, left, mid, right)\n",
    "\n",
    "\n",
    "def merge(data, left, mid, right):\n",
    "    temp = []\n",
    "    i = left\n",
    "    j = mid + 1\n",
    "    \n",
    "    while i <= mid and j <= right:\n",
    "        if data[i] <= data[j]:\n",
    "            temp.append(data[i])\n",
    "            i += 1\n",
    "        else:\n",
    "            temp.append(data[j])\n",
    "            j += 1\n",
    "            \n",
    "    while i <= mid:\n",
    "        temp.append(data[i])\n",
    "        i += 1\n",
    "        \n",
    "    while j <= right:\n",
    "        temp.append(data[j])\n",
    "        j += 1\n",
    "        \n",
    "    for i in range(len(temp)):\n",
    "        data[left + i] = temp[i]"
   ]
  },
  {
   "cell_type": "code",
   "execution_count": 5,
   "metadata": {},
   "outputs": [],
   "source": [
    "# Binary Search\n",
    "def binary_search(data, find_data):\n",
    "    start = 0\n",
    "    end = len(data) - 1\n",
    "    while (start <= end):\n",
    "        mid = (start + end) // 2\n",
    "        if find_data == data[mid]:\n",
    "            return mid\n",
    "        elif find_data > data[mid]:\n",
    "            start = mid + 1\n",
    "        else:\n",
    "            end = mid - 1\n",
    "\n",
    "    return -1"
   ]
  },
  {
   "cell_type": "code",
   "execution_count": 6,
   "metadata": {},
   "outputs": [],
   "source": [
    "# Interpolation Search\n",
    "def interpolation_search(data, target):\n",
    "    low = 0\n",
    "    high = len(data) - 1\n",
    "    \n",
    "    while low <= high and target >= data[low] and target <= data[high]:\n",
    "        if low == high:\n",
    "            if data[low] == target:\n",
    "                return low\n",
    "            return -1\n",
    "            \n",
    "        # 보간 공식을 사용하여 위치 추정\n",
    "        pos = low + ((target - data[low]) * (high - low) // \n",
    "                    (data[high] - data[low]))\n",
    "        \n",
    "        if data[pos] == target:\n",
    "            return pos\n",
    "        \n",
    "        if data[pos] < target:\n",
    "            low = pos + 1\n",
    "        else:\n",
    "            high = pos - 1\n",
    "            \n",
    "    return -1"
   ]
  },
  {
   "cell_type": "code",
   "execution_count": 7,
   "metadata": {},
   "outputs": [],
   "source": [
    "data1 = generate_numbers(1000000)\n",
    "data2 = generate_numbers(1000000)\n",
    "\n",
    "find_data = 100\n",
    "\n",
    "quick_sort(data1)\n",
    "merge_sort(data2)"
   ]
  },
  {
   "cell_type": "code",
   "execution_count": 8,
   "metadata": {},
   "outputs": [
    {
     "name": "stdout",
     "output_type": "stream",
     "text": [
      "\n",
      "Binary Search:\n",
      "time: 0.000063 seconds\n",
      "number 100 not found.\n",
      "\n",
      "Interpolation Search:\n",
      "time: 0.000040 seconds\n",
      "number 100 not found.\n"
     ]
    }
   ],
   "source": [
    "start = timer()\n",
    "pos1 = binary_search(data1, find_data)\n",
    "end = timer()\n",
    "print(f\"\\nBinary Search:\\ntime: {(end - start):.6f} seconds\")\n",
    "if pos1 == -1:\n",
    "    print(f\"number {find_data} not found.\")\n",
    "else:\n",
    "    print(f\"position of {find_data}: {pos1}\")\n",
    "\n",
    "start = timer()\n",
    "pos2 = interpolation_search(data2, find_data)\n",
    "end = timer()\n",
    "print(f\"\\nInterpolation Search:\\ntime: {(end - start):.6f} seconds\")\n",
    "if pos2 == -1:\n",
    "    print(f\"number {find_data} not found.\")\n",
    "else:\n",
    "    print(f\"position of {find_data}: {pos2}\")"
   ]
  },
  {
   "cell_type": "code",
   "execution_count": null,
   "metadata": {},
   "outputs": [],
   "source": []
  }
 ],
 "metadata": {
  "kernelspec": {
   "display_name": "base",
   "language": "python",
   "name": "python3"
  },
  "language_info": {
   "codemirror_mode": {
    "name": "ipython",
    "version": 3
   },
   "file_extension": ".py",
   "mimetype": "text/x-python",
   "name": "python",
   "nbconvert_exporter": "python",
   "pygments_lexer": "ipython3",
   "version": "3.12.2"
  }
 },
 "nbformat": 4,
 "nbformat_minor": 2
}
